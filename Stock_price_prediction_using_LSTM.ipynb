{
 "cells": [
  {
   "cell_type": "markdown",
   "id": "307e71c6",
   "metadata": {
    "lines_to_next_cell": 2
   },
   "source": [
    "## **LSTM model for stock price analysis**"
   ]
  },
  {
   "cell_type": "markdown",
   "id": "5ac2a2cf",
   "metadata": {},
   "source": [
    "Importing the necessary packages"
   ]
  },
  {
   "cell_type": "code",
   "execution_count": 4,
   "id": "538995b9",
   "metadata": {
    "lines_to_next_cell": 2
   },
   "outputs": [],
   "source": [
    "import math\n",
    "import pandas_datareader as web\n",
    "import numpy as np\n",
    "import pandas as pd\n",
    "from sklearn. preprocessing import MinMaxScaler\n",
    "from keras.models import Sequential\n",
    "from keras.layers import Dense, LSTM\n",
    "import matplotlib.pyplot as plt\n",
    "plt.style.use('fivethirtyeight')"
   ]
  },
  {
   "cell_type": "markdown",
   "id": "468f6991",
   "metadata": {},
   "source": [
    "Reading the file"
   ]
  },
  {
   "cell_type": "code",
   "execution_count": 7,
   "id": "0fb3bc01",
   "metadata": {
    "lines_to_next_cell": 2
   },
   "outputs": [
    {
     "data": {
      "text/plain": [
       "(1009, 7)"
      ]
     },
     "execution_count": 7,
     "metadata": {},
     "output_type": "execute_result"
    }
   ],
   "source": [
    "df = pd.read_csv('Price.csv')\n",
    "df.shape"
   ]
  },
  {
   "cell_type": "code",
   "execution_count": 10,
   "id": "6af5046e",
   "metadata": {},
   "outputs": [
    {
     "data": {
      "text/html": [
       "<div>\n",
       "<style scoped>\n",
       "    .dataframe tbody tr th:only-of-type {\n",
       "        vertical-align: middle;\n",
       "    }\n",
       "\n",
       "    .dataframe tbody tr th {\n",
       "        vertical-align: top;\n",
       "    }\n",
       "\n",
       "    .dataframe thead th {\n",
       "        text-align: right;\n",
       "    }\n",
       "</style>\n",
       "<table border=\"1\" class=\"dataframe\">\n",
       "  <thead>\n",
       "    <tr style=\"text-align: right;\">\n",
       "      <th></th>\n",
       "      <th>Date</th>\n",
       "      <th>Open</th>\n",
       "      <th>High</th>\n",
       "      <th>Low</th>\n",
       "      <th>Close</th>\n",
       "      <th>Adj Close</th>\n",
       "      <th>Volume</th>\n",
       "    </tr>\n",
       "  </thead>\n",
       "  <tbody>\n",
       "    <tr>\n",
       "      <th>0</th>\n",
       "      <td>2018-02-05</td>\n",
       "      <td>262.000000</td>\n",
       "      <td>267.899994</td>\n",
       "      <td>250.029999</td>\n",
       "      <td>254.259995</td>\n",
       "      <td>254.259995</td>\n",
       "      <td>11896100</td>\n",
       "    </tr>\n",
       "    <tr>\n",
       "      <th>1</th>\n",
       "      <td>2018-02-06</td>\n",
       "      <td>247.699997</td>\n",
       "      <td>266.700012</td>\n",
       "      <td>245.000000</td>\n",
       "      <td>265.720001</td>\n",
       "      <td>265.720001</td>\n",
       "      <td>12595800</td>\n",
       "    </tr>\n",
       "    <tr>\n",
       "      <th>2</th>\n",
       "      <td>2018-02-07</td>\n",
       "      <td>266.579987</td>\n",
       "      <td>272.450012</td>\n",
       "      <td>264.329987</td>\n",
       "      <td>264.559998</td>\n",
       "      <td>264.559998</td>\n",
       "      <td>8981500</td>\n",
       "    </tr>\n",
       "    <tr>\n",
       "      <th>3</th>\n",
       "      <td>2018-02-08</td>\n",
       "      <td>267.079987</td>\n",
       "      <td>267.619995</td>\n",
       "      <td>250.000000</td>\n",
       "      <td>250.100006</td>\n",
       "      <td>250.100006</td>\n",
       "      <td>9306700</td>\n",
       "    </tr>\n",
       "    <tr>\n",
       "      <th>4</th>\n",
       "      <td>2018-02-09</td>\n",
       "      <td>253.850006</td>\n",
       "      <td>255.800003</td>\n",
       "      <td>236.110001</td>\n",
       "      <td>249.470001</td>\n",
       "      <td>249.470001</td>\n",
       "      <td>16906900</td>\n",
       "    </tr>\n",
       "  </tbody>\n",
       "</table>\n",
       "</div>"
      ],
      "text/plain": [
       "         Date        Open        High         Low       Close   Adj Close  \\\n",
       "0  2018-02-05  262.000000  267.899994  250.029999  254.259995  254.259995   \n",
       "1  2018-02-06  247.699997  266.700012  245.000000  265.720001  265.720001   \n",
       "2  2018-02-07  266.579987  272.450012  264.329987  264.559998  264.559998   \n",
       "3  2018-02-08  267.079987  267.619995  250.000000  250.100006  250.100006   \n",
       "4  2018-02-09  253.850006  255.800003  236.110001  249.470001  249.470001   \n",
       "\n",
       "     Volume  \n",
       "0  11896100  \n",
       "1  12595800  \n",
       "2   8981500  \n",
       "3   9306700  \n",
       "4  16906900  "
      ]
     },
     "execution_count": 10,
     "metadata": {},
     "output_type": "execute_result"
    }
   ],
   "source": [
    "df.head()"
   ]
  },
  {
   "cell_type": "markdown",
   "id": "73e2cc29",
   "metadata": {},
   "source": [
    "Changing the index to Date column"
   ]
  },
  {
   "cell_type": "code",
   "execution_count": 11,
   "id": "7b6fe95d",
   "metadata": {
    "lines_to_next_cell": 2
   },
   "outputs": [
    {
     "data": {
      "text/html": [
       "<div>\n",
       "<style scoped>\n",
       "    .dataframe tbody tr th:only-of-type {\n",
       "        vertical-align: middle;\n",
       "    }\n",
       "\n",
       "    .dataframe tbody tr th {\n",
       "        vertical-align: top;\n",
       "    }\n",
       "\n",
       "    .dataframe thead th {\n",
       "        text-align: right;\n",
       "    }\n",
       "</style>\n",
       "<table border=\"1\" class=\"dataframe\">\n",
       "  <thead>\n",
       "    <tr style=\"text-align: right;\">\n",
       "      <th></th>\n",
       "      <th>Open</th>\n",
       "      <th>High</th>\n",
       "      <th>Low</th>\n",
       "      <th>Close</th>\n",
       "      <th>Adj Close</th>\n",
       "      <th>Volume</th>\n",
       "    </tr>\n",
       "    <tr>\n",
       "      <th>Date</th>\n",
       "      <th></th>\n",
       "      <th></th>\n",
       "      <th></th>\n",
       "      <th></th>\n",
       "      <th></th>\n",
       "      <th></th>\n",
       "    </tr>\n",
       "  </thead>\n",
       "  <tbody>\n",
       "    <tr>\n",
       "      <th>2018-02-05</th>\n",
       "      <td>262.000000</td>\n",
       "      <td>267.899994</td>\n",
       "      <td>250.029999</td>\n",
       "      <td>254.259995</td>\n",
       "      <td>254.259995</td>\n",
       "      <td>11896100</td>\n",
       "    </tr>\n",
       "    <tr>\n",
       "      <th>2018-02-06</th>\n",
       "      <td>247.699997</td>\n",
       "      <td>266.700012</td>\n",
       "      <td>245.000000</td>\n",
       "      <td>265.720001</td>\n",
       "      <td>265.720001</td>\n",
       "      <td>12595800</td>\n",
       "    </tr>\n",
       "    <tr>\n",
       "      <th>2018-02-07</th>\n",
       "      <td>266.579987</td>\n",
       "      <td>272.450012</td>\n",
       "      <td>264.329987</td>\n",
       "      <td>264.559998</td>\n",
       "      <td>264.559998</td>\n",
       "      <td>8981500</td>\n",
       "    </tr>\n",
       "    <tr>\n",
       "      <th>2018-02-08</th>\n",
       "      <td>267.079987</td>\n",
       "      <td>267.619995</td>\n",
       "      <td>250.000000</td>\n",
       "      <td>250.100006</td>\n",
       "      <td>250.100006</td>\n",
       "      <td>9306700</td>\n",
       "    </tr>\n",
       "    <tr>\n",
       "      <th>2018-02-09</th>\n",
       "      <td>253.850006</td>\n",
       "      <td>255.800003</td>\n",
       "      <td>236.110001</td>\n",
       "      <td>249.470001</td>\n",
       "      <td>249.470001</td>\n",
       "      <td>16906900</td>\n",
       "    </tr>\n",
       "  </tbody>\n",
       "</table>\n",
       "</div>"
      ],
      "text/plain": [
       "                  Open        High         Low       Close   Adj Close  \\\n",
       "Date                                                                     \n",
       "2018-02-05  262.000000  267.899994  250.029999  254.259995  254.259995   \n",
       "2018-02-06  247.699997  266.700012  245.000000  265.720001  265.720001   \n",
       "2018-02-07  266.579987  272.450012  264.329987  264.559998  264.559998   \n",
       "2018-02-08  267.079987  267.619995  250.000000  250.100006  250.100006   \n",
       "2018-02-09  253.850006  255.800003  236.110001  249.470001  249.470001   \n",
       "\n",
       "              Volume  \n",
       "Date                  \n",
       "2018-02-05  11896100  \n",
       "2018-02-06  12595800  \n",
       "2018-02-07   8981500  \n",
       "2018-02-08   9306700  \n",
       "2018-02-09  16906900  "
      ]
     },
     "execution_count": 11,
     "metadata": {},
     "output_type": "execute_result"
    }
   ],
   "source": [
    "df = df.set_index('Date')\n",
    "df.head()"
   ]
  },
  {
   "cell_type": "markdown",
   "id": "9d6b0a44",
   "metadata": {},
   "source": [
    "Visualizing the closing price"
   ]
  },
  {
   "cell_type": "code",
   "execution_count": 12,
   "id": "45ea3a8e",
   "metadata": {
    "lines_to_next_cell": 2
   },
   "outputs": [
    {
     "data": {
      "image/png": "[encoded data removed]",
      "text/plain": [
       "<Figure size 1152x576 with 1 Axes>"
      ]
     },
     "metadata": {},
     "output_type": "display_data"
    }
   ],
   "source": [
    "plt.figure(figsize=(16,8))\n",
    "plt.title('Close price History')\n",
    "plt.plot(df['Close'])\n",
    "plt.xlabel('Date',fontsize=18)\n",
    "plt.ylabel('Close Price USD ($)', fontsize=18)\n",
    "plt.show()"
   ]
  },
  {
   "cell_type": "markdown",
   "id": "37adf60d",
   "metadata": {},
   "source": [
    "Creating a new dataframe with only the \"Close column\""
   ]
  },
  {
   "cell_type": "code",
   "execution_count": 13,
   "id": "410f3e6a",
   "metadata": {},
   "outputs": [],
   "source": [
    "data = df.filter(['Close'])"
   ]
  },
  {
   "cell_type": "markdown",
   "id": "0614df5f",
   "metadata": {},
   "source": [
    "Converting the dataframe into a numpy array and setting the number of rows to train the model on"
   ]
  },
  {
   "cell_type": "code",
   "execution_count": 14,
   "id": "f977eee2",
   "metadata": {
    "lines_to_next_cell": 2
   },
   "outputs": [
    {
     "data": {
      "text/plain": [
       "808"
      ]
     },
     "execution_count": 14,
     "metadata": {},
     "output_type": "execute_result"
    }
   ],
   "source": [
    "dataset = data.values\n",
    "\n",
    "training_data_len=math.ceil( len(dataset)*.8)\n",
    "\n",
    "training_data_len"
   ]
  },
  {
   "cell_type": "markdown",
   "id": "7ee9ac0a",
   "metadata": {},
   "source": [
    "Scaling the data"
   ]
  },
  {
   "cell_type": "code",
   "execution_count": 15,
   "id": "ae6f2319",
   "metadata": {
    "lines_to_next_cell": 2
   },
   "outputs": [
    {
     "data": {
      "text/plain": [
       "array([[0.04451626],\n",
       "       [0.06954849],\n",
       "       [0.06701469],\n",
       "       ...,\n",
       "       [0.4272515 ],\n",
       "       [0.37509011],\n",
       "       [0.38507243]])"
      ]
     },
     "execution_count": 15,
     "metadata": {},
     "output_type": "execute_result"
    }
   ],
   "source": [
    "scaler = MinMaxScaler(feature_range=(0,1))\n",
    "scaled_data = scaler.fit_transform(dataset)\n",
    "scaled_data"
   ]
  },
  {
   "cell_type": "markdown",
   "id": "cc269ad6",
   "metadata": {},
   "source": [
    "Creating the training dataset with the scaled data"
   ]
  },
  {
   "cell_type": "code",
   "execution_count": 16,
   "id": "af676157",
   "metadata": {},
   "outputs": [],
   "source": [
    "train_data = scaled_data[0:training_data_len,:]"
   ]
  },
  {
   "cell_type": "markdown",
   "id": "b442572c",
   "metadata": {},
   "source": [
    "Splitting the data into training and testing sets"
   ]
  },
  {
   "cell_type": "code",
   "execution_count": 17,
   "id": "7266f336",
   "metadata": {
    "lines_to_next_cell": 2
   },
   "outputs": [
    {
     "name": "stdout",
     "output_type": "stream",
     "text": [
      "[array([0.04451626, 0.06954849, 0.06701469, 0.03542955, 0.03405342,\n",
      "       0.05257641, 0.05327534, 0.0701601 , 0.10133021, 0.09750767,\n",
      "       0.09757319, 0.10301218, 0.09667768, 0.11369343, 0.13167034,\n",
      "       0.12391599, 0.12559796, 0.12343551, 0.14672022, 0.1771914 ,\n",
      "       0.19951508, 0.19064677, 0.18156003, 0.2131015 , 0.19095254,\n",
      "       0.17911361, 0.19149862, 0.19049385, 0.18472731, 0.17387127,\n",
      "       0.18265218, 0.18042421, 0.15906164, 0.14647998, 0.18887749,\n",
      "       0.1459339 , 0.11334393, 0.13426968, 0.10137394, 0.10875693,\n",
      "       0.12026823, 0.13125532, 0.12007165, 0.12243068, 0.14021101,\n",
      "       0.15244317, 0.16463161, 0.16987394, 0.16142066, 0.22319301,\n",
      "       0.21982915, 0.21585376, 0.20508505, 0.18525152, 0.15976057,\n",
      "       0.15700838, 0.17496343, 0.17011425, 0.17164323, 0.17347804])]\n",
      "[0.17360909661393864]\n",
      "\n",
      "[array([0.04451626, 0.06954849, 0.06701469, 0.03542955, 0.03405342,\n",
      "       0.05257641, 0.05327534, 0.0701601 , 0.10133021, 0.09750767,\n",
      "       0.09757319, 0.10301218, 0.09667768, 0.11369343, 0.13167034,\n",
      "       0.12391599, 0.12559796, 0.12343551, 0.14672022, 0.1771914 ,\n",
      "       0.19951508, 0.19064677, 0.18156003, 0.2131015 , 0.19095254,\n",
      "       0.17911361, 0.19149862, 0.19049385, 0.18472731, 0.17387127,\n",
      "       0.18265218, 0.18042421, 0.15906164, 0.14647998, 0.18887749,\n",
      "       0.1459339 , 0.11334393, 0.13426968, 0.10137394, 0.10875693,\n",
      "       0.12026823, 0.13125532, 0.12007165, 0.12243068, 0.14021101,\n",
      "       0.15244317, 0.16463161, 0.16987394, 0.16142066, 0.22319301,\n",
      "       0.21982915, 0.21585376, 0.20508505, 0.18525152, 0.15976057,\n",
      "       0.15700838, 0.17496343, 0.17011425, 0.17164323, 0.17347804]), array([0.06954849, 0.06701469, 0.03542955, 0.03405342, 0.05257641,\n",
      "       0.05327534, 0.0701601 , 0.10133021, 0.09750767, 0.09757319,\n",
      "       0.10301218, 0.09667768, 0.11369343, 0.13167034, 0.12391599,\n",
      "       0.12559796, 0.12343551, 0.14672022, 0.1771914 , 0.19951508,\n",
      "       0.19064677, 0.18156003, 0.2131015 , 0.19095254, 0.17911361,\n",
      "       0.19149862, 0.19049385, 0.18472731, 0.17387127, 0.18265218,\n",
      "       0.18042421, 0.15906164, 0.14647998, 0.18887749, 0.1459339 ,\n",
      "       0.11334393, 0.13426968, 0.10137394, 0.10875693, 0.12026823,\n",
      "       0.13125532, 0.12007165, 0.12243068, 0.14021101, 0.15244317,\n",
      "       0.16463161, 0.16987394, 0.16142066, 0.22319301, 0.21982915,\n",
      "       0.21585376, 0.20508505, 0.18525152, 0.15976057, 0.15700838,\n",
      "       0.17496343, 0.17011425, 0.17164323, 0.17347804, 0.1736091 ])]\n",
      "[0.17360909661393864, 0.16996133223364263]\n",
      "\n"
     ]
    }
   ],
   "source": [
    "x_train = []\n",
    "y_train = []\n",
    "\n",
    "for i in range(60,len(train_data)):\n",
    "    x_train.append(train_data[i-60:i,0])\n",
    "    y_train.append(train_data[i,0])\n",
    "    if i<=61:\n",
    "        print(x_train)\n",
    "        print(y_train)\n",
    "        print()"
   ]
  },
  {
   "cell_type": "markdown",
   "id": "0c945e08",
   "metadata": {},
   "source": [
    "Converting the train and test sets into arrays (for reshaping)"
   ]
  },
  {
   "cell_type": "code",
   "execution_count": 18,
   "id": "81e9c226",
   "metadata": {
    "lines_to_next_cell": 2
   },
   "outputs": [],
   "source": [
    "x_train,y_train = np.array(x_train),np.array(y_train)"
   ]
  },
  {
   "cell_type": "markdown",
   "id": "2d782761",
   "metadata": {},
   "source": [
    "Reshaping the data(The LSTM model expects 3 dimensions)"
   ]
  },
  {
   "cell_type": "code",
   "execution_count": 19,
   "id": "11468f0a",
   "metadata": {
    "lines_to_next_cell": 2
   },
   "outputs": [
    {
     "data": {
      "text/plain": [
       "(748, 60, 1)"
      ]
     },
     "execution_count": 19,
     "metadata": {},
     "output_type": "execute_result"
    }
   ],
   "source": [
    "x_train = np.reshape(x_train,(x_train.shape[0],x_train.shape[1],1))\n",
    "x_train.shape"
   ]
  },
  {
   "cell_type": "markdown",
   "id": "2defbba6",
   "metadata": {},
   "source": [
    "Building the model"
   ]
  },
  {
   "cell_type": "code",
   "execution_count": 20,
   "id": "ff0045ce",
   "metadata": {
    "lines_to_next_cell": 2
   },
   "outputs": [],
   "source": [
    "model = Sequential()\n",
    "model.add(LSTM(50,return_sequences=True,input_shape=(x_train.shape[1],1)))\n",
    "model.add(LSTM(50,return_sequences=False))\n",
    "model.add(Dense(25))\n",
    "model.add(Dense(1))"
   ]
  },
  {
   "cell_type": "markdown",
   "id": "267f31fb",
   "metadata": {},
   "source": [
    "Compiling the model"
   ]
  },
  {
   "cell_type": "code",
   "execution_count": 21,
   "id": "c03be637",
   "metadata": {
    "lines_to_next_cell": 2
   },
   "outputs": [],
   "source": [
    "model.compile(optimizer = 'adam', loss = 'mean_squared_error')"
   ]
  },
  {
   "cell_type": "markdown",
   "id": "ddd264a4",
   "metadata": {},
   "source": [
    "Training the model\n"
   ]
  },
  {
   "cell_type": "code",
   "execution_count": 37,
   "id": "75329bf1",
   "metadata": {
    "lines_to_next_cell": 2
   },
   "outputs": [
    {
     "name": "stdout",
     "output_type": "stream",
     "text": [
      "748/748 [==============================] - 12s 15ms/step - loss: 9.3919e-04\n"
     ]
    },
    {
     "data": {
      "text/plain": [
       "<keras.callbacks.History at 0x22a7cbeeca0>"
      ]
     },
     "execution_count": 37,
     "metadata": {},
     "output_type": "execute_result"
    }
   ],
   "source": [
    "model.fit(x_train,y_train,batch_size=1, epochs=1)"
   ]
  },
  {
   "cell_type": "markdown",
   "id": "33764160",
   "metadata": {},
   "source": [
    "Creating the testing datasets"
   ]
  },
  {
   "cell_type": "code",
   "execution_count": 38,
   "id": "6a148f7b",
   "metadata": {},
   "outputs": [],
   "source": [
    "test_data = scaled_data[training_data_len-60:,:]"
   ]
  },
  {
   "cell_type": "markdown",
   "id": "d58968d0",
   "metadata": {},
   "source": [
    "Creating the datases x_test and y_test"
   ]
  },
  {
   "cell_type": "code",
   "execution_count": 39,
   "id": "382f787f",
   "metadata": {
    "lines_to_next_cell": 2
   },
   "outputs": [],
   "source": [
    "x_test = []\n",
    "y_test = dataset[training_data_len:,:]\n",
    "for i in range(60,len(test_data)):\n",
    "    x_test.append(test_data[i-60:i,0])"
   ]
  },
  {
   "cell_type": "markdown",
   "id": "c4033564",
   "metadata": {},
   "source": [
    "Converting the data to a numpy array\n"
   ]
  },
  {
   "cell_type": "code",
   "execution_count": 40,
   "id": "f85b7f59",
   "metadata": {
    "lines_to_next_cell": 2
   },
   "outputs": [],
   "source": [
    "x_test = np.array(x_test)"
   ]
  },
  {
   "cell_type": "markdown",
   "id": "af60eaee",
   "metadata": {},
   "source": [
    "Reshaping the data"
   ]
  },
  {
   "cell_type": "code",
   "execution_count": 41,
   "id": "769383db",
   "metadata": {
    "lines_to_next_cell": 2
   },
   "outputs": [],
   "source": [
    "x_test = np.reshape(x_test,(x_test.shape[0], x_test.shape[1], 1 ))"
   ]
  },
  {
   "cell_type": "markdown",
   "id": "469e9dbf",
   "metadata": {},
   "source": [
    "Getting the models predicted price values\n"
   ]
  },
  {
   "cell_type": "code",
   "execution_count": 42,
   "id": "cb4aa5a8",
   "metadata": {
    "lines_to_next_cell": 2
   },
   "outputs": [
    {
     "name": "stdout",
     "output_type": "stream",
     "text": [
      "7/7 [==============================] - 0s 11ms/step\n"
     ]
    }
   ],
   "source": [
    "predictions = model.predict(x_test)\n",
    "predictions = scaler.inverse_transform(predictions)"
   ]
  },
  {
   "cell_type": "markdown",
   "id": "4e9312d5",
   "metadata": {},
   "source": [
    "Root mean squared error(RMSE)\n"
   ]
  },
  {
   "cell_type": "code",
   "execution_count": 43,
   "id": "244e86e0",
   "metadata": {
    "lines_to_next_cell": 2
   },
   "outputs": [
    {
     "data": {
      "text/plain": [
       "6.878158319476836"
      ]
     },
     "execution_count": 43,
     "metadata": {},
     "output_type": "execute_result"
    }
   ],
   "source": [
    "rmse = np.sqrt( np.mean(predictions-y_test)**2 )\n",
    "rmse"
   ]
  },
  {
   "cell_type": "markdown",
   "id": "49583b97",
   "metadata": {},
   "source": [
    "Visualizing the data\n"
   ]
  },
  {
   "cell_type": "code",
   "execution_count": 44,
   "id": "2b2c7c86",
   "metadata": {
    "lines_to_next_cell": 2
   },
   "outputs": [
    {
     "name": "stderr",
     "output_type": "stream",
     "text": [
      "C:\\Users\\Anujit\\AppData\\Local\\Temp\\ipykernel_18576\\4269100639.py:3: SettingWithCopyWarning: \n",
      "A value is trying to be set on a copy of a slice from a DataFrame.\n",
      "Try using .loc[row_indexer,col_indexer] = value instead\n",
      "\n",
      "See the caveats in the documentation: https://pandas.pydata.org/pandas-docs/stable/user_guide/indexing.html#returning-a-view-versus-a-copy\n",
      "  valid['Predictions'] = predictions\n"
     ]
    },
    {
     "data": {
      "image/png": "[encoded data removed]",
      "text/plain": [
       "<Figure size 1152x576 with 1 Axes>"
      ]
     },
     "metadata": {},
     "output_type": "display_data"
    }
   ],
   "source": [
    "train = data[:training_data_len]\n",
    "valid = data[training_data_len:]\n",
    "valid['Predictions'] = predictions\n",
    "#Visualize the data\n",
    "plt.figure(figsize=(16,8))\n",
    "plt.title('Model')\n",
    "plt.xlabel('Date', fontsize=18)\n",
    "plt.ylabel('Close Price USD($)', fontsize = 18)\n",
    "plt.plot(train['Close'])\n",
    "plt.plot(valid[['Close','Predictions']])\n",
    "plt.legend(['Train','Val','Predictions'],loc='lower right')\n",
    "plt.show()"
   ]
  },
  {
   "cell_type": "markdown",
   "id": "50c2c937",
   "metadata": {},
   "source": [
    "Valid and predicted prices\n"
   ]
  },
  {
   "cell_type": "code",
   "execution_count": 45,
   "id": "0ab6fb7b",
   "metadata": {
    "lines_to_next_cell": 2
   },
   "outputs": [
    {
     "data": {
      "text/html": [
       "<div>\n",
       "<style scoped>\n",
       "    .dataframe tbody tr th:only-of-type {\n",
       "        vertical-align: middle;\n",
       "    }\n",
       "\n",
       "    .dataframe tbody tr th {\n",
       "        vertical-align: top;\n",
       "    }\n",
       "\n",
       "    .dataframe thead th {\n",
       "        text-align: right;\n",
       "    }\n",
       "</style>\n",
       "<table border=\"1\" class=\"dataframe\">\n",
       "  <thead>\n",
       "    <tr style=\"text-align: right;\">\n",
       "      <th></th>\n",
       "      <th>Close</th>\n",
       "      <th>Predictions</th>\n",
       "    </tr>\n",
       "    <tr>\n",
       "      <th>Date</th>\n",
       "      <th></th>\n",
       "      <th></th>\n",
       "    </tr>\n",
       "  </thead>\n",
       "  <tbody>\n",
       "    <tr>\n",
       "      <th>2021-04-22</th>\n",
       "      <td>508.779999</td>\n",
       "      <td>523.610535</td>\n",
       "    </tr>\n",
       "    <tr>\n",
       "      <th>2021-04-23</th>\n",
       "      <td>505.549988</td>\n",
       "      <td>517.584717</td>\n",
       "    </tr>\n",
       "    <tr>\n",
       "      <th>2021-04-26</th>\n",
       "      <td>510.299988</td>\n",
       "      <td>514.111938</td>\n",
       "    </tr>\n",
       "    <tr>\n",
       "      <th>2021-04-27</th>\n",
       "      <td>505.549988</td>\n",
       "      <td>518.182800</td>\n",
       "    </tr>\n",
       "    <tr>\n",
       "      <th>2021-04-28</th>\n",
       "      <td>506.519989</td>\n",
       "      <td>515.070557</td>\n",
       "    </tr>\n",
       "    <tr>\n",
       "      <th>...</th>\n",
       "      <td>...</td>\n",
       "      <td>...</td>\n",
       "    </tr>\n",
       "    <tr>\n",
       "      <th>2022-01-31</th>\n",
       "      <td>427.140015</td>\n",
       "      <td>393.953857</td>\n",
       "    </tr>\n",
       "    <tr>\n",
       "      <th>2022-02-01</th>\n",
       "      <td>457.130005</td>\n",
       "      <td>431.536865</td>\n",
       "    </tr>\n",
       "    <tr>\n",
       "      <th>2022-02-02</th>\n",
       "      <td>429.480011</td>\n",
       "      <td>463.603577</td>\n",
       "    </tr>\n",
       "    <tr>\n",
       "      <th>2022-02-03</th>\n",
       "      <td>405.600006</td>\n",
       "      <td>444.186646</td>\n",
       "    </tr>\n",
       "    <tr>\n",
       "      <th>2022-02-04</th>\n",
       "      <td>410.170013</td>\n",
       "      <td>417.826843</td>\n",
       "    </tr>\n",
       "  </tbody>\n",
       "</table>\n",
       "<p>201 rows × 2 columns</p>\n",
       "</div>"
      ],
      "text/plain": [
       "                 Close  Predictions\n",
       "Date                               \n",
       "2021-04-22  508.779999   523.610535\n",
       "2021-04-23  505.549988   517.584717\n",
       "2021-04-26  510.299988   514.111938\n",
       "2021-04-27  505.549988   518.182800\n",
       "2021-04-28  506.519989   515.070557\n",
       "...                ...          ...\n",
       "2022-01-31  427.140015   393.953857\n",
       "2022-02-01  457.130005   431.536865\n",
       "2022-02-02  429.480011   463.603577\n",
       "2022-02-03  405.600006   444.186646\n",
       "2022-02-04  410.170013   417.826843\n",
       "\n",
       "[201 rows x 2 columns]"
      ]
     },
     "execution_count": 45,
     "metadata": {},
     "output_type": "execute_result"
    }
   ],
   "source": [
    "valid"
   ]
  },
  {
   "cell_type": "code",
   "execution_count": null,
   "id": "f024e4ed",
   "metadata": {},
   "outputs": [],
   "source": []
  }
 ],
 "metadata": {
  "jupytext": {
   "cell_metadata_filter": "-all",
   "encoding": "# coding: utf-8",
   "executable": "/usr/bin/env python",
   "main_language": "python",
   "notebook_metadata_filter": "-all"
  },
  "kernelspec": {
   "display_name": "Python 3 (ipykernel)",
   "language": "python",
   "name": "python3"
  },
  "language_info": {
   "codemirror_mode": {
    "name": "ipython",
    "version": 3
   },
   "file_extension": ".py",
   "mimetype": "text/x-python",
   "name": "python",
   "nbconvert_exporter": "python",
   "pygments_lexer": "ipython3",
   "version": "3.9.12"
  }
 },
 "nbformat": 4,
 "nbformat_minor": 5
}
